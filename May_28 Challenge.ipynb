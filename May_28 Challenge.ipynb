{
 "cells": [
  {
   "cell_type": "markdown",
   "metadata": {},
   "source": [
    "\n"
   ]
  },
  {
   "cell_type": "code",
   "execution_count": 2,
   "metadata": {},
   "outputs": [
    {
     "name": "stdout",
     "output_type": "stream",
     "text": [
      "ineuron \n",
      "\n",
      "ineuron ineuron \n",
      "\n",
      "ineuron ineuron ineuron \n",
      "\n",
      "ineuron ineuron ineuron ineuron \n",
      "\n"
     ]
    }
   ],
   "source": [
    "#Q1:\n",
    "'''\n",
    "ineuron\n",
    "ineuron ineuron\n",
    "ineuron ineuron ineuron\n",
    "ineuron ineuron ineuron ineuron'''\n",
    "\n",
    "for i in range(4):\n",
    "    for j in range(i+1):\n",
    "        print('ineuron',end = \" \")\n",
    "    print('\\n')"
   ]
  },
  {
   "cell_type": "code",
   "execution_count": 14,
   "metadata": {},
   "outputs": [
    {
     "name": "stdout",
     "output_type": "stream",
     "text": [
      "                                                  \n",
      "                     ineuron                      \n",
      "                 ineuron ineuron                  \n",
      "             ineuron ineuron ineuron              \n",
      "                 ineuron ineuron                  \n",
      "                     ineuron                      \n"
     ]
    }
   ],
   "source": [
    "#Q2\n",
    "'''\n",
    "        ineuron\n",
    "    ineuron    ineuron\n",
    "ineuron    ineuron    ineuron\n",
    "    ineuron    ineuron\n",
    "        ineuron\n",
    "\n",
    "'''\n",
    "for i in range(6):\n",
    "    if i <= 3:\n",
    "        n = i\n",
    "    else:\n",
    "        n = 6-i\n",
    "    print((\"ineuron \"*n).center(50,\" \"))\n",
    "    \n",
    "\n",
    "            "
   ]
  },
  {
   "cell_type": "code",
   "execution_count": 1,
   "metadata": {},
   "outputs": [],
   "source": [
    "l = [[1,2,3,4],(2,3,4,5,6),(3,4,5,6,7),set([23,4,5,45,4,4,5,45,45,4,5]),{'k1':'sudh','k2':'ineuron','k3':'kumar',3:6,7:8}\n",
    "     ,['ineuron','data science']]"
   ]
  },
  {
   "cell_type": "code",
   "execution_count": 4,
   "metadata": {},
   "outputs": [
    {
     "name": "stdout",
     "output_type": "stream",
     "text": [
      "[1, 2, 3, 4]\n",
      "['ineuron', 'data science']\n"
     ]
    }
   ],
   "source": [
    "'''Q3:\n",
    "\n",
    "Try To Extraxt all the list entities'''\n",
    "for i in l:\n",
    "    if type(i) == list:\n",
    "        print(i)\n"
   ]
  },
  {
   "cell_type": "code",
   "execution_count": 5,
   "metadata": {},
   "outputs": [
    {
     "name": "stdout",
     "output_type": "stream",
     "text": [
      "{'k1': 'sudh', 'k2': 'ineuron', 'k3': 'kumar', 3: 6, 7: 8}\n"
     ]
    }
   ],
   "source": [
    "'''Q4:\n",
    "Try To Extract all the Dict enities\n",
    "'''\n",
    "for i in l :\n",
    "    if type(i) == dict:\n",
    "        print(i)"
   ]
  },
  {
   "cell_type": "code",
   "execution_count": 6,
   "metadata": {},
   "outputs": [
    {
     "name": "stdout",
     "output_type": "stream",
     "text": [
      "(2, 3, 4, 5, 6)\n",
      "(3, 4, 5, 6, 7)\n"
     ]
    }
   ],
   "source": [
    "'''Q5:\n",
    "Try to Extract all the tuple entities\n",
    "'''\n",
    "for i in l:\n",
    "    if type(i) == tuple:\n",
    "        print(i)"
   ]
  },
  {
   "cell_type": "code",
   "execution_count": 22,
   "metadata": {},
   "outputs": [
    {
     "name": "stdout",
     "output_type": "stream",
     "text": [
      "[1, 2, 3, 4, 2, 3, 4, 5, 6, 3, 4, 5, 6, 7, 45, 4, 5, 23, 3, 6, 7, 8]\n"
     ]
    }
   ],
   "source": [
    "'''Q6:\n",
    "Try to extract all the numerical data it may be a part of dictionary'''\n",
    "k = []\n",
    "for i in l:\n",
    "    if type(i) == list or type(i) == tuple or type(i) == set : \n",
    "        for j in i:\n",
    "            if type(j) == int:\n",
    "                k.append(j)\n",
    "                \n",
    "    if type(i) == dict:\n",
    "        for j in i:\n",
    "            if type(j)== int or type(i[j]) == int:\n",
    "                k.append(j)\n",
    "                k.append(i[j])\n",
    "print(k)\n",
    "                \n",
    "  \n",
    "\n",
    "    \n",
    "                \n",
    "    "
   ]
  },
  {
   "cell_type": "code",
   "execution_count": 18,
   "metadata": {},
   "outputs": [
    {
     "data": {
      "text/plain": [
       "[1, 2, 3, 4, 2, 3, 4, 5, 6, 3, 4, 5, 6, 7, 45, 4, 5, 23, 3, 6, 7, 8]"
      ]
     },
     "execution_count": 18,
     "metadata": {},
     "output_type": "execute_result"
    }
   ],
   "source": [
    "k"
   ]
  },
  {
   "cell_type": "code",
   "execution_count": 23,
   "metadata": {},
   "outputs": [],
   "source": [
    "'''ROUGH WORK'''\n",
    "d = {'key':'value',3:4}"
   ]
  },
  {
   "cell_type": "code",
   "execution_count": 24,
   "metadata": {},
   "outputs": [
    {
     "data": {
      "text/plain": [
       "{'key': 'value', 3: 4}"
      ]
     },
     "execution_count": 24,
     "metadata": {},
     "output_type": "execute_result"
    }
   ],
   "source": [
    "d"
   ]
  },
  {
   "cell_type": "code",
   "execution_count": 25,
   "metadata": {},
   "outputs": [
    {
     "data": {
      "text/plain": [
       "dict_items([('key', 'value'), (3, 4)])"
      ]
     },
     "execution_count": 25,
     "metadata": {},
     "output_type": "execute_result"
    }
   ],
   "source": [
    "d.items()"
   ]
  },
  {
   "cell_type": "code",
   "execution_count": 27,
   "metadata": {},
   "outputs": [
    {
     "data": {
      "text/plain": [
       "dict_keys(['key', 3])"
      ]
     },
     "execution_count": 27,
     "metadata": {},
     "output_type": "execute_result"
    }
   ],
   "source": [
    "d.keys()"
   ]
  },
  {
   "cell_type": "code",
   "execution_count": 28,
   "metadata": {},
   "outputs": [
    {
     "data": {
      "text/plain": [
       "dict_values(['value', 4])"
      ]
     },
     "execution_count": 28,
     "metadata": {},
     "output_type": "execute_result"
    }
   ],
   "source": [
    "d.values()"
   ]
  },
  {
   "cell_type": "code",
   "execution_count": 37,
   "metadata": {},
   "outputs": [
    {
     "name": "stdout",
     "output_type": "stream",
     "text": [
      "156\n"
     ]
    }
   ],
   "source": [
    "'''Q7:\n",
    "Try To give summation of all the numeric data\n",
    "'''\n",
    "sum = 0\n",
    "\n",
    "for i in l:\n",
    "    if type(i) == list or type(i) == tuple or type(i) == set : \n",
    "        for j in i:\n",
    "            if type(j) == int:\n",
    "                sum=sum +j\n",
    "                \n",
    "                \n",
    "    if type(i) == dict:\n",
    "        for j in i:\n",
    "            if type(j)== int or type(i[j]) == int:\n",
    "                sum = sum + j + i[j]\n",
    "print(sum)\n"
   ]
  },
  {
   "cell_type": "code",
   "execution_count": 19,
   "metadata": {},
   "outputs": [
    {
     "data": {
      "text/plain": [
       "[1, 2, 3, 4, 2, 3, 4, 5, 6, 3, 4, 5, 6, 7, 45, 4, 5, 23, 3, 6, 7, 8]"
      ]
     },
     "execution_count": 19,
     "metadata": {},
     "output_type": "execute_result"
    }
   ],
   "source": [
    "k"
   ]
  },
  {
   "cell_type": "code",
   "execution_count": 23,
   "metadata": {},
   "outputs": [
    {
     "name": "stdout",
     "output_type": "stream",
     "text": [
      "[2, 4, 2, 4, 6, 4, 6, 4, 6, 8]\n"
     ]
    }
   ],
   "source": [
    "'''Q8:\n",
    "Try to filter out all the odd oddvalues out of all numeric datawhich is present in the list'''\n",
    "m = []\n",
    "for i in k:\n",
    "    if i % 2 == 0:\n",
    "        m.append(i)\n",
    "print(m)\n",
    "\n",
    "        "
   ]
  },
  {
   "cell_type": "code",
   "execution_count": 44,
   "metadata": {},
   "outputs": [
    {
     "name": "stdout",
     "output_type": "stream",
     "text": [
      "ineuron\n"
     ]
    }
   ],
   "source": [
    "'''Q9:\n",
    "Try To Extract \"ineuron\" out of this data'''\n",
    "for i in l:\n",
    "    if type(i) == list or type(i) == tuple or type(i) == set : \n",
    "        for j in i:\n",
    "            if type(i) == str:\n",
    "                if i ==\"ineuron\":\n",
    "                    print(i)\n",
    "    if type(i) == dict:\n",
    "        for j in i:\n",
    "            if type(j) == str or type(i[j])== str:\n",
    "                if j == \"ineuron\" :\n",
    "                    print(j)\n",
    "                if i[j] == 'ineuron':\n",
    "                    print(i[j])"
   ]
  },
  {
   "cell_type": "code",
   "execution_count": 1,
   "metadata": {},
   "outputs": [
    {
     "name": "stdout",
     "output_type": "stream",
     "text": [
      "[1, 2, 3, 4, 2, 3, 4, 5, 6, 3, 4, 5, 6, 7, 45, 4, 5, 23, 'k1', 'sudh', 'k2', 'ineuron', 'k3', 'kumar', 3, 6, 7, 8, 'ineuron', 'data science']\n",
      "1 : 1\n",
      "2 : 2\n",
      "3 : 4\n",
      "4 : 4\n",
      "5 : 3\n",
      "6 : 3\n",
      "7 : 2\n",
      "k2 : 1\n",
      "8 : 1\n",
      "sudh : 1\n",
      "data science : 1\n",
      "45 : 1\n",
      "ineuron : 2\n",
      "k3 : 1\n",
      "23 : 1\n",
      "k1 : 1\n",
      "kumar : 1\n"
     ]
    }
   ],
   "source": [
    "'''Q10:\n",
    "Try to find out the occurances of all  the data\n",
    "'''\n",
    "l = [[1,2,3,4],(2,3,4,5,6),(3,4,5,6,7),set([23,4,5,45,4,4,5,45,45,4,5]),{'k1':'sudh','k2':'ineuron','k3':'kumar',3:6,7:8}\n",
    "     ,['ineuron','data science']]\n",
    "\n",
    "n = []\n",
    "for i in l:\n",
    "    if type(i) == list or type(i) == tuple or type(i) == set : \n",
    "        for j in i:\n",
    "            if type(j) == int or type(j) == str:\n",
    "                n.append(j)\n",
    "                \n",
    "    if type(i) == dict:\n",
    "        for j in i:\n",
    "                n.append(j)\n",
    "                n.append(i[j])\n",
    "print(n)\n",
    "for i in set(n):\n",
    "    print(i ,\":\",n.count(i))\n",
    "     \n",
    "\n",
    "\n"
   ]
  },
  {
   "cell_type": "code",
   "execution_count": 33,
   "metadata": {},
   "outputs": [
    {
     "name": "stdout",
     "output_type": "stream",
     "text": [
      "No. of keys: 5\n"
     ]
    }
   ],
   "source": [
    "'''Q11:\n",
    " Try to find out no. of keys in dictionary element'''\n",
    "l = [[1,2,3,4],(2,3,4,5,6),(3,4,5,6,7),set([23,4,5,45,4,4,5,45,45,4,5]),{'k1':'sudh','k2':'ineuron','k3':'kumar',3:6,7:8}\n",
    "     ,['ineuron','data science']]\n",
    "for i in l:\n",
    "    if type(i) == dict:\n",
    "        print(\"No. of keys:\",len(list(i.keys())))\n",
    "        "
   ]
  },
  {
   "cell_type": "code",
   "execution_count": 3,
   "metadata": {},
   "outputs": [
    {
     "name": "stdout",
     "output_type": "stream",
     "text": [
      "[1, 2, 3, 4, 2, 3, 4, 5, 6, 3, 4, 5, 6, 7, 45, 4, 5, 23, 'k1', 'sudh', 'k2', 'ineuron', 'k3', 'kumar', 3, 6, 7, 8, 'ineuron', 'data science']\n",
      "String Data of dictionary : ['k1', 'sudh', 'k2', 'ineuron', 'k3', 'kumar', 'ineuron', 'data science']\n"
     ]
    }
   ],
   "source": [
    "'''Q12:\n",
    "Try to filter out all the string data'''\n",
    "l = [[1,2,3,4],(2,3,4,5,6),(3,4,5,6,7),set([23,4,5,45,4,4,5,45,45,4,5]),{'k1':'sudh','k2':'ineuron','k3':'kumar',3:6,7:8}\n",
    "     ,['ineuron','data science']]\n",
    "\n",
    "n = []\n",
    "for i in l:\n",
    "    if type(i) == list or type(i) == tuple or type(i) == set : \n",
    "        for j in i:\n",
    "            if type(j) == int or type(j) == str:\n",
    "                n.append(j)\n",
    "                \n",
    "    if type(i) == dict:\n",
    "        for j in i:\n",
    "                n.append(j)\n",
    "                n.append(i[j])\n",
    "print(n)\n",
    "String_data = []\n",
    "for i in n :\n",
    "    if type(i) == str:\n",
    "        String_data.append(i)\n",
    "print(\"String Data of dictionary :\",String_data)\n",
    "        \n"
   ]
  },
  {
   "cell_type": "code",
   "execution_count": 6,
   "metadata": {},
   "outputs": [
    {
     "name": "stdout",
     "output_type": "stream",
     "text": [
      "[1, 2, 3, 4, 2, 3, 4, 5, 6, 3, 4, 5, 6, 7, 45, 4, 5, 23, 'k1', 'sudh', 'k2', 'ineuron', 'k3', 'kumar', 3, 6, 7, 8, 'ineuron', 'data science']\n",
      "Alpha Numeric Data : ['k1', 'sudh', 'k2', 'ineuron', 'k3', 'kumar', 'ineuron']\n"
     ]
    }
   ],
   "source": [
    "'''Q13:\n",
    "Try to find alphanum in the data'''\n",
    "l = [[1,2,3,4],(2,3,4,5,6),(3,4,5,6,7),set([23,4,5,45,4,4,5,45,45,4,5]),{'k1':'sudh','k2':'ineuron','k3':'kumar',3:6,7:8}\n",
    "     ,['ineuron','data science']]\n",
    "n = []\n",
    "for i in l:\n",
    "    if type(i) == list or type(i) == tuple or type(i) == set : \n",
    "        for j in i:\n",
    "            if type(j) == int or type(j) == str:\n",
    "                n.append(j)\n",
    "                \n",
    "    if type(i) == dict:\n",
    "        for j in i:\n",
    "                n.append(j)\n",
    "                n.append(i[j])\n",
    "print(n)\n",
    "alpha_num = []\n",
    "for i in n :\n",
    "    if type(i) == str:\n",
    "        if i.isalnum()== True:\n",
    "            alpha_num.append(i)\n",
    "print(\"Alpha Numeric Data :\",alpha_num)"
   ]
  },
  {
   "cell_type": "code",
   "execution_count": 15,
   "metadata": {},
   "outputs": [
    {
     "name": "stdout",
     "output_type": "stream",
     "text": [
      "List data Multiplication: 24\n",
      "Tuple data Multiplication: 1814400\n",
      "Set data Multiplication: 20700\n",
      "Dict data Multiplication: 1008\n"
     ]
    }
   ],
   "source": [
    "'''Q14:\n",
    "Try to find out the multiplication of all the numeric values in the individual collection inside the dataset '''\n",
    "l = [[1,2,3,4],(2,3,4,5,6),(3,4,5,6,7),set([23,4,5,45,4,4,5,45,45,4,5]),{'k1':'sudh','k2':'ineuron','k3':'kumar',3:6,7:8}\n",
    "     ,['ineuron','data science']]\n",
    "list_mul = 1\n",
    "tup_mul = 1 \n",
    "set_mul = 1\n",
    "dict_mul = 1\n",
    "for i in l:\n",
    "    if type(i) == list:\n",
    "        for j in i:\n",
    "            if type(j) == int:\n",
    "                list_mul = list_mul * j \n",
    "    if type(i) == tuple:\n",
    "        for j in i:\n",
    "            if type(j) == int:\n",
    "                tup_mul = tup_mul * j\n",
    "    if type(i) == set:\n",
    "        for j in i:\n",
    "            if type(j) == int:\n",
    "                set_mul = set_mul * j\n",
    "    if type(i) == dict:\n",
    "        for j in i:\n",
    "            if type(j) == int :\n",
    "                dict_mul = dict_mul * j\n",
    "            if type(i[j]) == int:\n",
    "                dict_mul = dict_mul*i[j]\n",
    "            \n",
    "print('List data Multiplication:',list_mul)\n",
    "print('Tuple data Multiplication:',tup_mul)\n",
    "print('Set data Multiplication:',set_mul)\n",
    "print('Dict data Multiplication:',dict_mul)"
   ]
  },
  {
   "cell_type": "code",
   "execution_count": 16,
   "metadata": {},
   "outputs": [
    {
     "name": "stdout",
     "output_type": "stream",
     "text": [
      "[1, 2, 3, 4, 2, 3, 4, 5, 6, 3, 4, 5, 6, 7, 45, 4, 5, 23, 'k1', 'sudh', 'k2', 'ineuron', 'k3', 'kumar', 3, 6, 7, 8, 'ineuron', 'data science']\n"
     ]
    }
   ],
   "source": [
    "'''Q15:\n",
    "Try To unwrap the collections present in the data into the flat list'''\n",
    "l = [[1,2,3,4],(2,3,4,5,6),(3,4,5,6,7),set([23,4,5,45,4,4,5,45,45,4,5]),{'k1':'sudh','k2':'ineuron','k3':'kumar',3:6,7:8}\n",
    "     ,['ineuron','data science']]\n",
    "n = []\n",
    "for i in l:\n",
    "    if type(i) == list or type(i) == tuple or type(i) == set : \n",
    "        for j in i:\n",
    "            if type(j) == int or type(j) == str:\n",
    "                n.append(j)\n",
    "                \n",
    "    if type(i) == dict:\n",
    "        for j in i:\n",
    "                n.append(j)\n",
    "                n.append(i[j])\n",
    "print(n)"
   ]
  },
  {
   "cell_type": "code",
   "execution_count": null,
   "metadata": {},
   "outputs": [],
   "source": []
  }
 ],
 "metadata": {
  "kernelspec": {
   "display_name": "Python 3",
   "language": "python",
   "name": "python3"
  },
  "language_info": {
   "codemirror_mode": {
    "name": "ipython",
    "version": 3
   },
   "file_extension": ".py",
   "mimetype": "text/x-python",
   "name": "python",
   "nbconvert_exporter": "python",
   "pygments_lexer": "ipython3",
   "version": "3.8.8"
  }
 },
 "nbformat": 4,
 "nbformat_minor": 2
}
